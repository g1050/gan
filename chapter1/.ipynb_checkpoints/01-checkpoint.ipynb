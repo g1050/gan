{
 "cells": [
  {
   "cell_type": "markdown",
   "id": "28ca70ae",
   "metadata": {},
   "source": [
    "- GAN原理、公式\n",
    "- 基本GAN、minist手写数据集\n",
    "- DCGAN\n",
    "- Conditional GAN 条件GAN，text to image\n",
    "- infoGAN 无监督模式的条件GAN\n",
    "- SSGAN 半监督学习GAN\n",
    "- Pixel2PixelGAN 素描自动上色\n"
   ]
  },
  {
   "cell_type": "code",
   "execution_count": null,
   "id": "37ab9450",
   "metadata": {},
   "outputs": [],
   "source": []
  }
 ],
 "metadata": {
  "kernelspec": {
   "display_name": "Python 3 (ipykernel)",
   "language": "python",
   "name": "python3"
  },
  "language_info": {
   "codemirror_mode": {
    "name": "ipython",
    "version": 3
   },
   "file_extension": ".py",
   "mimetype": "text/x-python",
   "name": "python",
   "nbconvert_exporter": "python",
   "pygments_lexer": "ipython3",
   "version": "3.7.13"
  }
 },
 "nbformat": 4,
 "nbformat_minor": 5
}
